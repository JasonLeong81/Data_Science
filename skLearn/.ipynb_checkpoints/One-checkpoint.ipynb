{
 "cells": [
  {
   "cell_type": "code",
   "execution_count": 4,
   "metadata": {},
   "outputs": [],
   "source": [
    "\n",
    "# sklearn documentation : https://www.youtube.com/redirect?q=https%3A%2F%2Fscikit-learn.org%2Fstable%2Fdocumentation.html&redir_token=QUFFLUhqbnphU0REeW5tQmdPbkh3WnAwdUxsS2VfUVJCQXxBQ3Jtc0ttLTdpM1hja3JnOHJXYi1SbkFjYmZMLUNxNk5hcEdXZU5pSkgzVHo4M2FyM1JrVjJ0VXhTdG1pMXRab0tDZ2FJa29OU2tRR0ZmZGxaMzFlV3ExR3FZQnVaZnNkc3FPUXViQ0MwUDh4clA2WGlaVDhfUQ%3D%3D&event=video_description&v=\n",
    "# raw data set form amazon : https://www.youtube.com/redirect?q=http%3A%2F%2Fjmcauley.ucsd.edu%2Fdata%2Famazon%2F&redir_token=QUFFLUhqbGVhRDR4di1mc0V5YW9jdngtTzg4MHdwSmJ3UXxBQ3Jtc0ttaGZ2MnVKaWpPMEpXYjdfQThtOVduNnJSWS1UbWJFY2FBWVlkb2tCblZST1BPejdCcnRhOEdMb0pVM1M4eXBWZ3VvZVhWaXFMdXBobEc0NmxrWmJELWw1eGl4MERWSGFhY1NRQjA0QmlBb1dNU3cxYw%3D%3D&event=video_description&v=M9Itm95JzL0\n",
    "\n",
    "\n",
    "\n",
    "\n",
    "\n"
   ]
  }
 ],
 "metadata": {
  "kernelspec": {
   "display_name": "Python 3",
   "language": "python",
   "name": "python3"
  },
  "language_info": {
   "codemirror_mode": {
    "name": "ipython",
    "version": 3
   },
   "file_extension": ".py",
   "mimetype": "text/x-python",
   "name": "python",
   "nbconvert_exporter": "python",
   "pygments_lexer": "ipython3",
   "version": "3.7.1"
  }
 },
 "nbformat": 4,
 "nbformat_minor": 2
}
