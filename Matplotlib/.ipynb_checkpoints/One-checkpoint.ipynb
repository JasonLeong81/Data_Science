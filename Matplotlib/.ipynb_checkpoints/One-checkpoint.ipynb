{
 "cells": [
  {
   "cell_type": "code",
   "execution_count": 2,
   "metadata": {},
   "outputs": [],
   "source": [
    "### Git (TWT) #######################################\n",
    "# A branch is a copy of a repository at a given time that has different changes. \n",
    "\n",
    "# mkdir testrepo, cd testrepo, git init, git add <filename>, git status, git commit -m \"less than 50 words\",  \n",
    "# change something in file, git add . , git commit -m \"added another file\"\n",
    "\n",
    "# git checkout -b <name of new branch>, git add . , git commit -m \"added file to new branch\"\n",
    "# git checkout <master> # go back to master branch and see that the file is not changed\n",
    "# git merge master # change something in the file in master but not in new and that change will not be in the new branch. To bring all the changes to new, we merge them.\n",
    "# to resolve for merge conflicts, simply delete ===,<<<,>>> and other things that is not needed and then add and commit again. \n",
    "\n",
    "# git remote add origin https://github.com/Leongjason/Testrepo.git # make sure that you're in master branch\n",
    "# git push -u origin master # -u means save these settings, that is, next time we just type git push\n",
    "# username, password = leongjason822@gmail.com, 378100Yc\n",
    "# git config -- global user.name \"jason\" # the name by which people see you when you commit \n",
    "# git config -- global user.email \"leongjason822@gmail.com\" # email is required to push\n",
    "# git pull origin master \n",
    "\n",
    "# git push origin New # push new branch, but make sure you are in that branch\n",
    "\n",
    "### Git (random website) #######################################\n",
    "\n",
    "# git log # see commits that have been made \n",
    "# git log --merge # \n",
    "# git diff # see what we've changed \n",
    "# git checkout # \n",
    "# git reset --abort # \n",
    "# git merge --abort # stop merging \n",
    "# git reset # remove files in the staging area \n",
    "\n",
    "\n",
    "### Git (CS) #######################################\n",
    "\n",
    "# git clone <url> <where to clone> # git clone url . where the . means current directory \n",
    "# git remote -v \n",
    "# git branch -a \n",
    "# git branch -d <branch name> # only delete it locally \n",
    "# git push origin --delete <branch name> # delete it remotely \n",
    "# \n",
    "\n"
   ]
  },
  {
   "cell_type": "code",
   "execution_count": null,
   "metadata": {},
   "outputs": [],
   "source": []
  },
  {
   "cell_type": "code",
   "execution_count": null,
   "metadata": {},
   "outputs": [],
   "source": []
  }
 ],
 "metadata": {
  "kernelspec": {
   "display_name": "Python 3",
   "language": "python",
   "name": "python3"
  },
  "language_info": {
   "codemirror_mode": {
    "name": "ipython",
    "version": 3
   },
   "file_extension": ".py",
   "mimetype": "text/x-python",
   "name": "python",
   "nbconvert_exporter": "python",
   "pygments_lexer": "ipython3",
   "version": "3.7.1"
  }
 },
 "nbformat": 4,
 "nbformat_minor": 2
}
